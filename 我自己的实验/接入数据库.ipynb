{
 "cells": [
  {
   "cell_type": "code",
   "execution_count": 1,
   "id": "4351c06e",
   "metadata": {
    "scrolled": true
   },
   "outputs": [
    {
     "name": "stdout",
     "output_type": "stream",
     "text": [
      "Collecting pymysql\n",
      "  Downloading PyMySQL-1.1.1-py3-none-any.whl (44 kB)\n",
      "     -------------------------------------- 45.0/45.0 kB 221.2 kB/s eta 0:00:00\n",
      "Installing collected packages: pymysql\n",
      "Successfully installed pymysql-1.1.1\n",
      "Note: you may need to restart the kernel to use updated packages.\n"
     ]
    }
   ],
   "source": [
    "# pip install pymysql"
   ]
  },
  {
   "cell_type": "code",
   "execution_count": 5,
   "id": "395d59b8",
   "metadata": {},
   "outputs": [],
   "source": [
    "import pymysql\n",
    "from datetime import datetime\n",
    "\n",
    "import numpy as np\n",
    "import tensorflow as tf\n",
    "import cv2\n",
    "from tensorflow.keras.models import load_model\n",
    "from tensorflow.keras.preprocessing.image import load_img, img_to_array\n",
    "from tensorflow.keras.applications import ResNet50, Xception, InceptionV3\n",
    "from tensorflow.keras.applications.resnet50 import preprocess_input as resnet_preprocess\n",
    "from tensorflow.keras.applications.xception import preprocess_input as xcep_preprocess\n",
    "from tensorflow.keras.applications.inception_v3 import preprocess_input as incep_preprocess\n",
    "import tkinter as tk\n",
    "from tkinter import filedialog\n",
    "from tkinter import messagebox\n",
    "from PIL import Image, ImageTk\n",
    "import threading"
   ]
  },
  {
   "cell_type": "code",
   "execution_count": null,
   "id": "45c6f65c",
   "metadata": {},
   "outputs": [],
   "source": [
    "# 初始化模型和权重\n",
    "image_size = 224\n",
    "resnet = ResNet50(weights=None, include_top=False, pooling='avg', input_shape=(image_size, image_size, 3))\n",
    "xception = Xception(weights=None, include_top=False, pooling='avg', input_shape=(image_size, image_size, 3))\n",
    "inception = InceptionV3(weights=None, include_top=False, pooling='avg', input_shape=(image_size, image_size, 3))\n",
    "\n",
    "resnet.load_weights(r\"F:\\JupyterWorkSpace\\BBBBBBS\\models\\resnet50-imagenet-finetune152.h5\", by_name=True)\n",
    "xception.load_weights(r\"F:\\JupyterWorkSpace\\BBBBBBS\\models\\xception-imagenet-finetune116.h5\", by_name=True)\n",
    "inception.load_weights(r\"F:\\JupyterWorkSpace\\BBBBBBS\\models\\inceptionV3-imagenet-finetune172.h5\", by_name=True)\n",
    "\n",
    "model_mix = load_model(r\"F:\\JupyterWorkSpace\\BBBBBBS\\models\\mixed-model.h5\")\n",
    "\n",
    "# 分类标签\n",
    "classes = ['c0安全驾驶', 'c1右手打字', 'c2右手接电话','c3左手打字','c4左手接电话',\n",
    "           'c5调收音机','c6喝饮料','c7拿后面的东西','c8整理头发和化妆','c9和其他乘客说话']"
   ]
  },
  {
   "cell_type": "code",
   "execution_count": 2,
   "id": "03078061",
   "metadata": {},
   "outputs": [],
   "source": [
    "def save_prediction_to_db(stats: dict):\n",
    "    \"\"\"\n",
    "    将预测统计结果保存到 MySQL 数据库中。\n",
    "    :param stats: dict，包含每个分类的次数，例如：\n",
    "                  {\n",
    "                      'c0': 3, 'c1': 0, 'c2': 1, ..., 'c9': 0\n",
    "                  }\n",
    "    \"\"\"\n",
    "    # 连接数据库\n",
    "    connection = pymysql.connect(\n",
    "        host='localhost',\n",
    "        user='root',\n",
    "        password='czy123',\n",
    "        database='driver_act',\n",
    "        charset='utf8mb4'\n",
    "    )\n",
    "\n",
    "    try:\n",
    "        with connection.cursor() as cursor:\n",
    "            # 构建 SQL 插入语句\n",
    "            sql = \"\"\"\n",
    "                INSERT INTO prediction_stats (\n",
    "                    prediction_time,\n",
    "                    c0_safe_driving, c1_texting_right, c2_phone_right,\n",
    "                    c3_texting_left, c4_phone_left, c5_adjust_radio,\n",
    "                    c6_drinking, c7_reaching_back, c8_hair_makeup, c9_talking_to_passenger\n",
    "                ) VALUES (%s, %s, %s, %s, %s, %s, %s, %s, %s, %s, %s)\n",
    "            \"\"\"\n",
    "            values = (\n",
    "                datetime.now(),\n",
    "                stats.get('c0', 0), stats.get('c1', 0), stats.get('c2', 0),\n",
    "                stats.get('c3', 0), stats.get('c4', 0), stats.get('c5', 0),\n",
    "                stats.get('c6', 0), stats.get('c7', 0), stats.get('c8', 0), stats.get('c9', 0)\n",
    "            )\n",
    "            cursor.execute(sql, values)\n",
    "            connection.commit()\n",
    "            print(\"✅ 预测结果已成功写入数据库。\")\n",
    "    except Exception as e:\n",
    "        print(\"❌ 写入数据库出错:\", e)\n",
    "    finally:\n",
    "        connection.close()\n",
    "        \n",
    "# 测试\n",
    "# prediction_stats = {\n",
    "#     'c0': 3,\n",
    "#     'c2': 1,\n",
    "#     'c6': 2,\n",
    "#     # 其余的默认为 0\n",
    "# }\n",
    "\n",
    "# save_prediction_to_db(prediction_stats)\n",
    "        "
   ]
  },
  {
   "cell_type": "markdown",
   "id": "92dc679b",
   "metadata": {},
   "source": [
    "### 带数据库写入的单张预测"
   ]
  },
  {
   "cell_type": "code",
   "execution_count": 16,
   "id": "af9b3937",
   "metadata": {},
   "outputs": [],
   "source": [
    "def insert_prediction_to_db(driverID,class_name):\n",
    "    \"\"\"\n",
    "    将预测类别和当前时间写入数据库。\n",
    "    \"\"\"\n",
    "    try:\n",
    "        conn = pymysql.connect(\n",
    "            host='localhost',\n",
    "            user='root',\n",
    "            password='czy123',\n",
    "            database='driver_act',\n",
    "            charset='utf8mb4'\n",
    "        )\n",
    "        with conn.cursor() as cursor:\n",
    "            sql_small = \"\"\"\n",
    "                INSERT INTO driver_prediction_stats (driver_id,prediction_time, predicted_class) VALUES (%s,%s, %s)\n",
    "            \"\"\"\n",
    "            cursor.execute(sql_small, (driverID,datetime.now(), class_name))\n",
    "            \n",
    "#             sql_big = \"\"\"\n",
    "#                 INSERT INTO prediction_stats (\n",
    "#                     prediction_time,driver_id,driver_name,\n",
    "#                     c0_safe_driving, c1_texting_right, c2_phone_right,\n",
    "#                     c3_texting_left, c4_phone_left, c5_adjust_radio,\n",
    "#                     c6_drinking, c7_reaching_back, c8_hair_makeup, c9_talking_to_passenger\n",
    "#                 ) VALUES (%s, %s, %s, %s, %s, %s, %s, %s, %s, %s, %s, %s, %s)\n",
    "#             \"\"\"\n",
    "#             values = (\n",
    "#                 datetime.now(),driverID,driver_name,\n",
    "#                 stats.get('c0', 0), stats.get('c1', 0), stats.get('c2', 0),\n",
    "#                 stats.get('c3', 0), stats.get('c4', 0), stats.get('c5', 0),\n",
    "#                 stats.get('c6', 0), stats.get('c7', 0), stats.get('c8', 0), stats.get('c9', 0)\n",
    "#             )\n",
    "#             cursor.execute(sql_big, values)\n",
    "            \n",
    "        conn.commit()\n",
    "        print(f\"✅ 数据已写入数据库：{class_name}\")\n",
    "    except Exception as e:\n",
    "        print(f\"❌ 数据库写入失败：{e}\")\n",
    "    finally:\n",
    "        conn.close()\n",
    "\n",
    "def predict_single_image(driverID,image_path):\n",
    "    # 加载图像\n",
    "    img = load_img(image_path, target_size=(image_size, image_size))\n",
    "    img_array = img_to_array(img)\n",
    "    img_array = np.expand_dims(img_array, axis=0)\n",
    "\n",
    "    # 提取特征\n",
    "    feat_resnet = resnet.predict(resnet_preprocess(np.copy(img_array)))\n",
    "    feat_xcep = xception.predict(xcep_preprocess(np.copy(img_array)))\n",
    "    feat_incep = inception.predict(incep_preprocess(np.copy(img_array)))\n",
    "\n",
    "    # 拼接特征\n",
    "    bottleneck_feature = np.concatenate([feat_resnet, feat_xcep, feat_incep], axis=1)\n",
    "\n",
    "    # 分类预测\n",
    "    prediction = model_mix.predict(bottleneck_feature)\n",
    "    class_idx = np.argmax(prediction[0])\n",
    "    class_name = classes[class_idx]\n",
    "\n",
    "    print(\"预测概率分布：\", prediction[0])\n",
    "    print(\"预测类别索引：\", class_idx)\n",
    "    print(\"预测概率：\",prediction[0][class_idx])\n",
    "    print(\"预测类别名称：\", class_name)\n",
    "\n",
    "    # 写入数据库\n",
    "    insert_prediction_to_db(driverID,class_name)\n"
   ]
  },
  {
   "cell_type": "code",
   "execution_count": 17,
   "id": "e0a3e7dd",
   "metadata": {},
   "outputs": [
    {
     "name": "stdout",
     "output_type": "stream",
     "text": [
      "1/1 [==============================] - 1s 656ms/step\n",
      "1/1 [==============================] - 1s 518ms/step\n",
      "1/1 [==============================] - 1s 816ms/step\n",
      "1/1 [==============================] - 0s 34ms/step\n",
      "预测概率分布： [0.02959111 0.06504248 0.055479   0.06771972 0.04374571 0.32144254\n",
      " 0.02485283 0.31599978 0.02936878 0.04675811]\n",
      "预测类别索引： 5\n",
      "预测概率： 0.32144254\n",
      "预测类别名称： c5调收音机\n",
      "✅ 数据已写入数据库：c5调收音机\n"
     ]
    }
   ],
   "source": [
    "# 测试\n",
    "image_path = r\"F:\\BBBBBBBBBBBBBBBBB\\Datas\\imgs\\train\\c5\\img_735.jpg\"\n",
    "driverID = 1001\n",
    "predict_single_image(driverID,image_path)"
   ]
  }
 ],
 "metadata": {
  "kernelspec": {
   "display_name": "Python 3 (ipykernel)",
   "language": "python",
   "name": "python3"
  },
  "language_info": {
   "codemirror_mode": {
    "name": "ipython",
    "version": 3
   },
   "file_extension": ".py",
   "mimetype": "text/x-python",
   "name": "python",
   "nbconvert_exporter": "python",
   "pygments_lexer": "ipython3",
   "version": "3.10.9"
  }
 },
 "nbformat": 4,
 "nbformat_minor": 5
}
