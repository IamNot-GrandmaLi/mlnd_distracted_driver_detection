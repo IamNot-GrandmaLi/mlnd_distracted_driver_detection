{
 "cells": [
  {
   "cell_type": "code",
   "execution_count": 5,
   "id": "ba4a5a86",
   "metadata": {},
   "outputs": [],
   "source": [
    "import os\n",
    "import shutil\n",
    "\n",
    "from keras.models import *\n",
    "from keras.layers import *\n",
    "from keras.applications import *\n",
    "from keras.preprocessing.image import *\n",
    "from tensorflow.keras.preprocessing import image\n",
    "import numpy as np\n",
    "\n",
    "from keras.applications.inception_v3 import InceptionV3, preprocess_input as inception_v3_preprocess_input\n",
    "from keras.applications.xception import Xception, preprocess_input as xception_preprocess_input\n",
    "# from keras.applications.resnet50 import ResNet50, preprocess_input as resnet50_preprocess_input\n",
    "\n",
    "\n",
    "import h5py\n",
    "import math"
   ]
  },
  {
   "cell_type": "code",
   "execution_count": 12,
   "id": "10416065",
   "metadata": {},
   "outputs": [],
   "source": [
    "# dir = \"/ext/Data/distracted_driver_detection/\"\n",
    "dir = \"E:\\\\JupyterWorkSpace\\\\BBBBBBS\"\n",
    "\n",
    "resnet50_weight_file = \"resnet50-imagenet-finetune152.h5\"\n",
    "xception_weight_file = \"xception-imagenet-finetune116.h5\"\n",
    "inceptionV3_weight_file = \"inceptionV3-imagenet-finetune172.h5\"\n",
    "\n",
    "from tensorflow.keras.models import load_model\n",
    "# 加载已保存的模型\n",
    "model_mix = load_model(\"models/mixed-model.h5\")\n",
    "# 现在你可以使用 model_mix 来进行预测或其他操作\n"
   ]
  },
  {
   "cell_type": "code",
   "execution_count": 7,
   "id": "88b106ee",
   "metadata": {},
   "outputs": [],
   "source": [
    "def write_gap_test(tag, MODEL, weight_file, image_size, lambda_func=None, featurewise_std_normalization=True, image_path=None):\n",
    "    if image_path is None:\n",
    "        raise ValueError(\"You must provide a valid image path!\")\n",
    "\n",
    "    # 输入张量\n",
    "    input_tensor = Input((*image_size, 3))\n",
    "    x = input_tensor\n",
    "    if lambda_func:\n",
    "        x = Lambda(lambda_func)(x)  # 使用lambda函数进行额外的预处理\n",
    "    \n",
    "    # 加载基本模型，不包括顶部的全连接层\n",
    "    base_model = MODEL(input_tensor=x, weights=None, include_top=False)\n",
    "    # 构建最终的模型，使用全局平均池化\n",
    "    model = Model(base_model.input, GlobalAveragePooling2D()(base_model.output))\n",
    "    # 加载权重文件\n",
    "    model.load_weights(\"models/\" + weight_file, by_name=True)\n",
    "\n",
    "    print(MODEL.__name__)\n",
    "\n",
    "    # 定义数据生成器\n",
    "    gen = ImageDataGenerator(\n",
    "        featurewise_std_normalization=featurewise_std_normalization,\n",
    "        samplewise_std_normalization=False,\n",
    "    )\n",
    "\n",
    "    # 加载并处理单张图片\n",
    "    img = image.load_img(image_path, target_size=image_size)\n",
    "    img_array = image.img_to_array(img)\n",
    "    img_array = np.expand_dims(img_array, axis=0)  # 添加批次维度\n",
    "\n",
    "    # 如果需要进行标准化，可以用gen标准化\n",
    "    img_array = gen.standardize(img_array)\n",
    "\n",
    "    # 预测单张图片\n",
    "    test = model.predict(img_array)\n",
    "    print(\"Test prediction shape: {}\".format(test.shape))\n",
    "\n",
    "    # 将预测结果保存到文件\n",
    "    print(\"begin create database {}\".format(MODEL.__name__))\n",
    "    with h5py.File(os.path.join(\"models\", tag, \"bottleneck_{}_test.h5\".format(MODEL.__name__)),'w') as h:\n",
    "        h.create_dataset(\"test\", data=test)\n",
    "\n",
    "    print(\"write_gap_test {} succeeded\".format(MODEL.__name__))\n"
   ]
  },
  {
   "cell_type": "code",
   "execution_count": 15,
   "id": "1e0cbd8a",
   "metadata": {},
   "outputs": [
    {
     "name": "stdout",
     "output_type": "stream",
     "text": [
      "===== Single =====\n",
      "ResNet50\n",
      "WARNING:tensorflow:5 out of the last 5 calls to <function Model.make_predict_function.<locals>.predict_function at 0x000002B798250160> triggered tf.function retracing. Tracing is expensive and the excessive number of tracings could be due to (1) creating @tf.function repeatedly in a loop, (2) passing tensors with different shapes, (3) passing Python objects instead of tensors. For (1), please define your @tf.function outside of the loop. For (2), @tf.function has reduce_retracing=True option that can avoid unnecessary retracing. For (3), please refer to https://www.tensorflow.org/guide/function#controlling_retracing and https://www.tensorflow.org/api_docs/python/tf/function for  more details.\n",
      "1/1 [==============================] - 1s 626ms/step\n",
      "Test prediction shape: (1, 2048)\n",
      "begin create database ResNet50\n",
      "write_gap_test ResNet50 succeeded\n",
      "Xception\n",
      "WARNING:tensorflow:6 out of the last 6 calls to <function Model.make_predict_function.<locals>.predict_function at 0x000002B798252050> triggered tf.function retracing. Tracing is expensive and the excessive number of tracings could be due to (1) creating @tf.function repeatedly in a loop, (2) passing tensors with different shapes, (3) passing Python objects instead of tensors. For (1), please define your @tf.function outside of the loop. For (2), @tf.function has reduce_retracing=True option that can avoid unnecessary retracing. For (3), please refer to https://www.tensorflow.org/guide/function#controlling_retracing and https://www.tensorflow.org/api_docs/python/tf/function for  more details.\n",
      "1/1 [==============================] - 1s 560ms/step\n",
      "Test prediction shape: (1, 2048)\n",
      "begin create database Xception\n",
      "write_gap_test Xception succeeded\n"
     ]
    }
   ],
   "source": [
    "print(\"===== Single =====\")\n",
    "# write_gap_test(\"Single\", ResNet50, resnet50_weight_file, (240, 320))\n",
    "# write_gap_test(\"Single\", Xception, xception_weight_file, (320, 480), xception_preprocess_input)\n",
    "# write_gap_test(\"Single\", InceptionV3, inceptionV3_weight_file, (320, 480), inception_v3_preprocess_input)\n",
    "\n",
    "# image_path = 'C:\\\\Users\\\\13904\\\\Desktop\\\\tttt.jpg'  # 请确保这条路径是有效的\n",
    "# image_path = 'C:\\\\Users\\\\13904\\\\Desktop\\\\tttt.jpg'  # 请确保这条路径是有效的\n",
    "image_path = 'F:\\\\JupyterWorkSpace\\\\BBBBBBS\\\\train\\\\c1\\\\img_115.jpg'  # 请确保这条路径是有效的\n",
    "\n",
    "write_gap_test(tag=\"Single\", MODEL=ResNet50, weight_file=resnet50_weight_file, image_size=(240, 320), image_path=image_path)\n",
    "write_gap_test(tag=\"Single\", MODEL=Xception, weight_file=xception_weight_file, image_size=(320, 480), image_path=image_path)\n"
   ]
  },
  {
   "cell_type": "code",
   "execution_count": 16,
   "id": "02708016",
   "metadata": {},
   "outputs": [
    {
     "name": "stdout",
     "output_type": "stream",
     "text": [
      "InceptionV3\n",
      "1/1 [==============================] - 1s 855ms/step\n",
      "Test prediction shape: (1, 2048)\n",
      "begin create database InceptionV3\n",
      "write_gap_test InceptionV3 succeeded\n"
     ]
    }
   ],
   "source": [
    "# 不知道为什么,这个需要运行两遍\n",
    "write_gap_test(tag=\"Single\", MODEL=InceptionV3, weight_file=inceptionV3_weight_file, image_size=(320, 480), image_path=image_path)"
   ]
  },
  {
   "cell_type": "code",
   "execution_count": 15,
   "id": "1b7463c7",
   "metadata": {},
   "outputs": [
    {
     "name": "stdout",
     "output_type": "stream",
     "text": [
      "done\n"
     ]
    }
   ],
   "source": [
    "# # 最开始的，暂时弃用\n",
    "# import numpy as np\n",
    "# from tensorflow.keras.preprocessing import image\n",
    "# from tensorflow.keras.preprocessing.image import ImageDataGenerator\n",
    "# import os\n",
    "\n",
    "# def gen_kaggle_predictions(model, image_paths, model_image_size):\n",
    "#     # 创建图像数据生成器\n",
    "#     gen = ImageDataGenerator()\n",
    "\n",
    "#     for img_path in image_paths:\n",
    "#         # 加载单张图片并调整大小\n",
    "#         img = image.load_img(img_path, target_size=(model_image_size, model_image_size))\n",
    "#         img_array = image.img_to_array(img)\n",
    "#         img_array = np.expand_dims(img_array, axis=0)  # 扩展维度以适应模型输入\n",
    "\n",
    "#         # 标准化图像数据（如果需要）\n",
    "#         img_array = gen.standardize(img_array)\n",
    "\n",
    "#         # 对单张图片进行预测\n",
    "#         y_pred = model.predict(img_array, verbose=1)\n",
    "\n",
    "#         # 获取文件名\n",
    "#         fname = os.path.basename(img_path)\n",
    "\n",
    "#         # 打印图片文件名和预测结果\n",
    "#         print(f\"Prediction for {fname}: {y_pred[0]}\")\n",
    "\n",
    "# # 示例调用\n",
    "# # image_paths = ['path_to_image1.jpg', 'path_to_image2.jpg']  # 传入单张图片的路径列表\n",
    "# # gen_kaggle_predictions(model, image_paths, model_image_size=224)\n",
    "\n",
    "# # 打印完成信息\n",
    "# print(\"done\")\n"
   ]
  },
  {
   "cell_type": "code",
   "execution_count": 17,
   "id": "f39c2017",
   "metadata": {},
   "outputs": [
    {
     "name": "stdout",
     "output_type": "stream",
     "text": [
      "------------------bottleneck_ResNet50_test.h5\n",
      "------------------bottleneck_Xception_test.h5\n",
      "------------------bottleneck_InceptionV3_test.h5\n",
      "1/1 [==============================] - 0s 16ms/step\n",
      "Prediction for sample 0: [0.0000000e+00 7.4185172e-29 0.0000000e+00 0.0000000e+00 1.0000000e+00\n",
      " 0.0000000e+00 0.0000000e+00 0.0000000e+00 0.0000000e+00 1.4672487e-29]\n",
      "------y_pred--------\n",
      "[[0.0000000e+00 7.4185172e-29 0.0000000e+00 0.0000000e+00 1.0000000e+00\n",
      "  0.0000000e+00 0.0000000e+00 0.0000000e+00 0.0000000e+00 1.4672487e-29]]\n",
      "Predicted class: c4, Probability: 1.0\n"
     ]
    }
   ],
   "source": [
    "def gen_kaggle_predictions(model, X_test, model_image_size):\n",
    "    # 如果X_test是预先加载的特征数据，直接使用它\n",
    "    for i, features in enumerate(X_test):\n",
    "        # 对每一组特征进行预测\n",
    "        features = np.expand_dims(features, axis=0)  # 扩展维度以适应模型输入\n",
    "        \n",
    "        # 对单张特征进行预测\n",
    "        y_pred = model.predict(features, verbose=1)\n",
    "\n",
    "        # 打印预测结果\n",
    "        print(f\"Prediction for sample {i}: {y_pred[0]}\")\n",
    "        \n",
    "        \n",
    "        print(\"------y_pred--------\")\n",
    "        print(y_pred)\n",
    "        # 将 y_pred 扁平化为一维数组\n",
    "        y_pred = y_pred.flatten()\n",
    "        # 使用 np.argmax 找到最大概率值的索引\n",
    "        predicted_class = np.argmax(y_pred)\n",
    "        # 获取最大预测类别的概率值\n",
    "        predicted_prob = y_pred[predicted_class]\n",
    "        # 打印出预测的类别索引及其概率值\n",
    "        print(f\"Predicted class: c{predicted_class}, Probability: {predicted_prob}\")\n",
    "\n",
    "\n",
    "# 示例调用\n",
    "test_premodels = [\n",
    "    \"bottleneck_ResNet50_test.h5\", \n",
    "    \"bottleneck_Xception_test.h5\", \n",
    "    \"bottleneck_InceptionV3_test.h5\",\n",
    "]\n",
    "X_test = []\n",
    "for filename in test_premodels:\n",
    "    print('------------------' + filename)\n",
    "    with h5py.File(os.path.join(\"models\", \"Single\", filename), 'r') as h:\n",
    "        X_test.append(np.array(h['test']))\n",
    "\n",
    "X_test = np.concatenate(X_test, axis=1)\n",
    "\n",
    "# 传入X_test作为特征数据\n",
    "gen_kaggle_predictions(model_mix, X_test, model_image_size=320)\n"
   ]
  },
  {
   "cell_type": "code",
   "execution_count": 14,
   "id": "57c90e18",
   "metadata": {},
   "outputs": [
    {
     "data": {
      "text/plain": [
       "6144"
      ]
     },
     "execution_count": 14,
     "metadata": {},
     "output_type": "execute_result"
    }
   ],
   "source": [
    "len(X_test[0])"
   ]
  },
  {
   "cell_type": "markdown",
   "id": "82db95c0",
   "metadata": {},
   "source": [
    "# 汇总"
   ]
  },
  {
   "cell_type": "code",
   "execution_count": null,
   "id": "f784b30a",
   "metadata": {},
   "outputs": [],
   "source": [
    "# dir = \"/ext/Data/distracted_driver_detection/\"\n",
    "dir = \"E:\\\\JupyterWorkSpace\\\\BBBBBBS\"\n",
    "\n",
    "resnet50_weight_file = \"resnet50-imagenet-finetune152.h5\"\n",
    "xception_weight_file = \"xception-imagenet-finetune116.h5\"\n",
    "inceptionV3_weight_file = \"inceptionV3-imagenet-finetune172.h5\"\n",
    "\n",
    "from tensorflow.keras.models import load_model\n",
    "# 加载已保存的模型\n",
    "model_mix = load_model(\"models/mixed-model.h5\")\n",
    "# 现在你可以使用 model_mix 来进行预测或其他操作\n",
    "\n",
    "def write_gap_test(tag, MODEL, weight_file, image_size, lambda_func=None, featurewise_std_normalization=True, image_path=None):\n",
    "    if image_path is None:\n",
    "        raise ValueError(\"You must provide a valid image path!\")\n",
    "\n",
    "    # 输入张量\n",
    "    input_tensor = Input((*image_size, 3))\n",
    "    x = input_tensor\n",
    "    if lambda_func:\n",
    "        x = Lambda(lambda_func)(x)  # 使用lambda函数进行额外的预处理\n",
    "    \n",
    "    # 加载基本模型，不包括顶部的全连接层\n",
    "    base_model = MODEL(input_tensor=x, weights=None, include_top=False)\n",
    "    # 构建最终的模型，使用全局平均池化\n",
    "    model = Model(base_model.input, GlobalAveragePooling2D()(base_model.output))\n",
    "    # 加载权重文件\n",
    "    model.load_weights(\"models/\" + weight_file, by_name=True)\n",
    "\n",
    "    print(MODEL.__name__)\n",
    "\n",
    "    # 定义数据生成器\n",
    "    gen = ImageDataGenerator(\n",
    "        featurewise_std_normalization=featurewise_std_normalization,\n",
    "        samplewise_std_normalization=False,\n",
    "    )\n",
    "\n",
    "    # 加载并处理单张图片\n",
    "    img = image.load_img(image_path, target_size=image_size)\n",
    "    img_array = image.img_to_array(img)\n",
    "    img_array = np.expand_dims(img_array, axis=0)  # 添加批次维度\n",
    "\n",
    "    # 如果需要进行标准化，可以用gen标准化\n",
    "    img_array = gen.standardize(img_array)\n",
    "\n",
    "    # 预测单张图片\n",
    "    test = model.predict(img_array)\n",
    "    print(\"Test prediction shape: {}\".format(test.shape))\n",
    "\n",
    "    # 将预测结果保存到文件\n",
    "    print(\"begin create database {}\".format(MODEL.__name__))\n",
    "    with h5py.File(os.path.join(\"models\", tag, \"bottleneck_{}_test.h5\".format(MODEL.__name__)),'w') as h:\n",
    "        h.create_dataset(\"test\", data=test)\n",
    "\n",
    "    print(\"write_gap_test {} succeeded\".format(MODEL.__name__))\n",
    "\n",
    "    \n",
    "image_path = 'F:\\\\JupyterWorkSpace\\\\BBBBBBS\\\\train\\\\c1\\\\img_115.jpg'  # 请确保这条路径是有效的\n",
    "\n",
    "write_gap_test(tag=\"Single\", MODEL=ResNet50, weight_file=resnet50_weight_file, image_size=(240, 320), image_path=image_path)\n",
    "write_gap_test(tag=\"Single\", MODEL=Xception, weight_file=xception_weight_file, image_size=(320, 480), image_path=image_path)\n",
    "# 不知道为什么,这个需要运行两遍\n",
    "write_gap_test(tag=\"Single\", MODEL=InceptionV3, weight_file=inceptionV3_weight_file, image_size=(320, 480), image_path=image_path)\n",
    "\n",
    "def gen_kaggle_predictions(model, X_test, model_image_size):\n",
    "    # 如果X_test是预先加载的特征数据，直接使用它\n",
    "    for i, features in enumerate(X_test):\n",
    "        # 对每一组特征进行预测\n",
    "        features = np.expand_dims(features, axis=0)  # 扩展维度以适应模型输入\n",
    "        \n",
    "        # 对单张特征进行预测\n",
    "        y_pred = model.predict(features, verbose=1)\n",
    "\n",
    "        # 打印预测结果\n",
    "        print(f\"Prediction for sample {i}: {y_pred[0]}\")\n",
    "        \n",
    "        \n",
    "        print(\"------y_pred--------\")\n",
    "        print(y_pred)\n",
    "        # 将 y_pred 扁平化为一维数组\n",
    "        y_pred = y_pred.flatten()\n",
    "        # 使用 np.argmax 找到最大概率值的索引\n",
    "        predicted_class = np.argmax(y_pred)\n",
    "        # 获取最大预测类别的概率值\n",
    "        predicted_prob = y_pred[predicted_class]\n",
    "        # 打印出预测的类别索引及其概率值\n",
    "        print(f\"Predicted class: c{predicted_class}, Probability: {predicted_prob}\")\n",
    "\n",
    "\n",
    "# 示例调用\n",
    "test_premodels = [\n",
    "    \"bottleneck_ResNet50_test.h5\", \n",
    "    \"bottleneck_Xception_test.h5\", \n",
    "    \"bottleneck_InceptionV3_test.h5\",\n",
    "]\n",
    "X_test = []\n",
    "for filename in test_premodels:\n",
    "    print('------------------' + filename)\n",
    "    with h5py.File(os.path.join(\"models\", \"Single\", filename), 'r') as h:\n",
    "        X_test.append(np.array(h['test']))\n",
    "\n",
    "X_test = np.concatenate(X_test, axis=1)\n",
    "\n",
    "# 传入X_test作为特征数据\n",
    "gen_kaggle_predictions(model_mix, X_test, model_image_size=320)\n"
   ]
  },
  {
   "cell_type": "code",
   "execution_count": 18,
   "id": "a06198f6",
   "metadata": {},
   "outputs": [
    {
     "ename": "NameError",
     "evalue": "name 'model_resnet50' is not defined",
     "output_type": "error",
     "traceback": [
      "\u001b[1;31m---------------------------------------------------------------------------\u001b[0m",
      "\u001b[1;31mNameError\u001b[0m                                 Traceback (most recent call last)",
      "Cell \u001b[1;32mIn [18], line 1\u001b[0m\n\u001b[1;32m----> 1\u001b[0m y_pred_resnet50 \u001b[38;5;241m=\u001b[39m \u001b[43mmodel_resnet50\u001b[49m\u001b[38;5;241m.\u001b[39mpredict(img_array)\n\u001b[0;32m      2\u001b[0m y_pred_xception \u001b[38;5;241m=\u001b[39m model_xception\u001b[38;5;241m.\u001b[39mpredict(img_array)\n\u001b[0;32m      3\u001b[0m y_pred_inception \u001b[38;5;241m=\u001b[39m model_inception\u001b[38;5;241m.\u001b[39mpredict(img_array)\n",
      "\u001b[1;31mNameError\u001b[0m: name 'model_resnet50' is not defined"
     ]
    }
   ],
   "source": [
    "y_pred_resnet50 = model_resnet50.predict(img_array)\n",
    "y_pred_xception = model_xception.predict(img_array)\n",
    "y_pred_inception = model_inception.predict(img_array)\n",
    "\n",
    "print(f\"ResNet50 Prediction: {y_pred_resnet50}\")\n",
    "print(f\"Xception Prediction: {y_pred_xception}\")\n",
    "print(f\"InceptionV3 Prediction: {y_pred_inception}\")\n"
   ]
  }
 ],
 "metadata": {
  "kernelspec": {
   "display_name": "Python 3 (ipykernel)",
   "language": "python",
   "name": "python3"
  },
  "language_info": {
   "codemirror_mode": {
    "name": "ipython",
    "version": 3
   },
   "file_extension": ".py",
   "mimetype": "text/x-python",
   "name": "python",
   "nbconvert_exporter": "python",
   "pygments_lexer": "ipython3",
   "version": "3.10.9"
  }
 },
 "nbformat": 4,
 "nbformat_minor": 5
}
